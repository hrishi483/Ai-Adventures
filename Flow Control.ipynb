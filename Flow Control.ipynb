{
 "cells": [
  {
   "cell_type": "markdown",
   "id": "7867b17b",
   "metadata": {},
   "source": [
    "<img src=\"https://ai-adventures.github.io/pfds/_static/logo_com.png\" alt=\"Example Image\" style=\"width: 800px; height: 150px;\">\n"
   ]
  },
  {
   "cell_type": "markdown",
   "id": "738e7e71",
   "metadata": {},
   "source": [
    "\n",
    "# Flow Control:"
   ]
  },
  {
   "cell_type": "markdown",
   "id": "b7d30801",
   "metadata": {},
   "source": [
    "<div style=\"text-align: left\">\n",
    "    <img src=\"https://simplesqltutorials.com/wp-content/uploads/2021/05/if-else-decision-structures-featured-image.jpg\" alt=\"Cute Cat\" style=\"float: left; margin-right: 20px;\">\n",
    "     You know the basics of individual instructions and that a program is just a series of instructions. But the real strength of programming isn’t just running (or executing) one instruction after another. Based on how the expressions evaluate, the program can decide to skip instructions, repeat them, or choose one of several instructions to run.\n",
    "    \n",
    "    \n",
    "    Flow control statements in Python allow programs to make decisions, repeat instructions, or choose different paths based on conditions. Instead of executing every line sequentially, these statements enable skipping, repeating, or selecting specific instructions. This flexibility enhances the power of programming by enabling dynamic and interactive behavior. By  utilizing flow control, programmers can control the execution flow and make their programs respond      intelligently to different situations.\n",
    "</div>\n"
   ]
  },
  {
   "cell_type": "markdown",
   "id": "004d4adc",
   "metadata": {},
   "source": [
    "- Imagine coming to our Office at AI Adventures from your home at any crossroad you need to make decisions about whether to take\n",
    "right turn or left.\n",
    "\n",
    "- You make these decisions everyday. So making decisions is very important in our life. With python you can give this intelligence\n",
    "even to your code.Flow control is all about that, lets explore it in detail more....."
   ]
  },
  {
   "cell_type": "markdown",
   "id": "63526bd6",
   "metadata": {},
   "source": [
    "# Boolean Operators"
   ]
  },
  {
   "cell_type": "markdown",
   "id": "3da99f06",
   "metadata": {},
   "source": [
    "Before jumping into flow control let's learn essential Boolean Algebra. Just like mathematical operators studied earlier \n",
    "we will now learn about boolean operators.\n",
    "\n",
    "- <b> Boolean Values </b>:\n",
    "    While the integer, floating-point, and string data types have an unlimited number of possible values, the Boolean data type has only two values: True and False. These values need not be passed as a string.\n",
    "    "
   ]
  },
  {
   "cell_type": "markdown",
   "id": "35e202ca",
   "metadata": {},
   "source": [
    "<h4>Exercise</h4>\n",
    "<div style=\"text-align: left\">\n",
    "    <img src=\"https://img.freepik.com/free-vector/cute-panda-lifting-barbell-gym-fitness-cartoon-vector-icon-illustration-animal-sports-icon-isolated_138676-5482.jpg?size=626&ext=jpg\" alt=\"Cute Cat\" style=\"height: 200px; width: 200px; float: left; margin-right: 20px;\">\n",
    "    Try checking the datatype of:\n",
    "    <ol>\n",
    "            <li> \"True\"\n",
    "            <li> true\n",
    "            <li> True\n",
    "    </ol>\n",
    "    using the function type() used earlier.\n",
    "    Try to understand the result and think which is a boolean value?\n",
    "</div>\n"
   ]
  },
  {
   "cell_type": "markdown",
   "id": "01d71f2e",
   "metadata": {},
   "source": [
    "The rules for declaring a variable remain same as for other datatypes as well."
   ]
  },
  {
   "cell_type": "markdown",
   "id": "a7cc9f0c",
   "metadata": {},
   "source": [
    "### Comparison Operators"
   ]
  },
  {
   "cell_type": "markdown",
   "id": "837f10c3",
   "metadata": {},
   "source": [
    "<table>\n",
    "  <tr>\n",
    "    <th>Operator</th>\n",
    "    <th>Description</th>\n",
    "  </tr>\n",
    "  <tr>\n",
    "    <td>a == b</td>\n",
    "    <td>a Equal to b</td>\n",
    "  </tr>\n",
    "  <tr>\n",
    "    <td>a!=b</td>\n",
    "    <td>a Not equal to b</td>\n",
    "  </tr>\n",
    "  <tr>\n",
    "    <td>a &lt; b</td>\n",
    "    <td>a Less than b</td>\n",
    "  </tr>\n",
    "  <tr>\n",
    "    <td>a &gt; b</td>\n",
    "    <td>a Greater than b</td>\n",
    "  </tr>\n",
    "  <tr>\n",
    "    <td>a &lt;= b</td>\n",
    "    <td>a Less than or equal to b</td>\n",
    "  </tr>\n",
    "  <tr>\n",
    "    <td>a &gt;= b</td>\n",
    "    <td>a Greater than or equal to b</td>\n",
    "  </tr>\n",
    "</table>\n",
    "\n",
    "\n",
    "<style>\n",
    "    .highlight {\n",
    "        background-color: yellow;\n",
    "    }\n",
    "</style>\n",
    "\n",
    "<br>\n",
    "\n",
    "<div style=\"border-radius: 8px; background-color: #ffffcc; padding: 10px;\"><b>Note:</b>The == operator (equal to) asks whether two values are the same as each other. The = operator (assignment) puts the value on the right into the variable on the left.</div>"
   ]
  },
  {
   "cell_type": "markdown",
   "id": "11c2509e",
   "metadata": {},
   "source": [
    "### Boolean Operators"
   ]
  },
  {
   "cell_type": "markdown",
   "id": "1f818f23",
   "metadata": {},
   "source": [
    "The three Boolean operators `(and, or, and not)` are used to compare Boolean values. Like comparison operators, they also evaluate these expressions down to a Boolean value.\n",
    "\n",
    "Each operator has it's own rules called Boolean Algebra just as we studied Linear Algebra in last topic.\n",
    "\n",
    "1. <b> and operator </b>\n",
    "\n",
    "<table>\n",
    "  <tr>\n",
    "    <th>A</th>\n",
    "    <th>B</th>\n",
    "    <th>A and B</th>\n",
    "  </tr>\n",
    "  <tr>\n",
    "    <td>true</td>\n",
    "    <td>true</td>\n",
    "    <td>true</td>\n",
    "  </tr>\n",
    "  <tr>\n",
    "    <td>true</td>\n",
    "    <td>false</td>\n",
    "    <td>false</td>\n",
    "  </tr>\n",
    "  <tr>\n",
    "    <td>false</td>\n",
    "    <td>true</td>\n",
    "    <td>false</td>\n",
    "  </tr>\n",
    "  <tr>\n",
    "    <td>false</td>\n",
    "    <td>false</td>\n",
    "    <td>false</td>\n",
    "  </tr>\n",
    "</table>\n",
    "\n",
    "If both of the two Boolean values are True. If either of them is False, it evaluates to False.\n",
    "\n",
    "<br>\n",
    "2. <b> or operator </b>\n",
    "\n",
    "<table>\n",
    "  <tr>\n",
    "    <th>A</th>\n",
    "    <th>B</th>\n",
    "    <th>A || B</th>\n",
    "  </tr>\n",
    "  <tr>\n",
    "    <td>true</td>\n",
    "    <td>true</td>\n",
    "    <td>true</td>\n",
    "  </tr>\n",
    "  <tr>\n",
    "    <td>true</td>\n",
    "    <td>false</td>\n",
    "    <td>true</td>\n",
    "  </tr>\n",
    "  <tr>\n",
    "    <td>false</td>\n",
    "    <td>true</td>\n",
    "    <td>true</td>\n",
    "  </tr>\n",
    "  <tr>\n",
    "    <td>false</td>\n",
    "    <td>false</td>\n",
    "    <td>false</td>\n",
    "  </tr>\n",
    "</table>\n",
    "True if either of the two Boolean values is True. If both are False, it evaluates to False.\n",
    "<br>\n",
    "\n",
    "3. <b> Not operator: </b>\n",
    "<table>\n",
    "  <tr>\n",
    "    <th>A</th>\n",
    "    <th>!A</th>\n",
    "  </tr>\n",
    "  <tr>\n",
    "    <td>true</td>\n",
    "    <td>false</td>\n",
    "  </tr>\n",
    "  <tr>\n",
    "    <td>false</td>\n",
    "    <td>true</td>\n",
    "  </tr>\n",
    "</table>\n",
    "This can also be said as negation operator.\n",
    "\n",
    "<br>\n"
   ]
  },
  {
   "cell_type": "code",
   "execution_count": 3,
   "id": "5512c199",
   "metadata": {},
   "outputs": [
    {
     "data": {
      "text/plain": [
       "False"
      ]
     },
     "execution_count": 3,
     "metadata": {},
     "output_type": "execute_result"
    }
   ],
   "source": [
    "# Try verifying the the table like this\n",
    "True and False"
   ]
  },
  {
   "cell_type": "markdown",
   "id": "37f7ed2b",
   "metadata": {},
   "source": [
    " `and, or, and not` operators are called Boolean operators because they always operate on the Boolean values True and False. While expressions like 1 < 2 aren’t Boolean values, they are expressions that evaluate down to Boolean values. Try using some Boolean expressions that use comparison operators in your computer."
   ]
  },
  {
   "cell_type": "code",
   "execution_count": 1,
   "id": "d54c8962",
   "metadata": {},
   "outputs": [
    {
     "name": "stdout",
     "output_type": "stream",
     "text": [
      "True\n",
      "True\n"
     ]
    }
   ],
   "source": [
    "#Run the cell below\n",
    "\n",
    "print((1 < 2) and (3 < 4))\n",
    "\n",
    "\"\"\"The computer will evaluate the left expression first, and then it will evaluate the right expression. \n",
    "When it knows the Boolean value for each, it will then evaluate the whole expression down to one Boolean value. \n",
    "You can think of the computer’s evaluation process for (1 < 2) and (3 < 4) \"\"\"\n",
    "\n",
    "print((1 == 2) or (2 == 2))"
   ]
  },
  {
   "cell_type": "markdown",
   "id": "ef65879e",
   "metadata": {},
   "source": [
    "<div style=\"border-radius: 8px; background-color: #ffffcc; padding: 10px;\"><b>Note:</b>The Boolean operators have an order of operations just like the math operators do. After all math and comparison operators are evaluated, Python evaluates the not operators first, then the and operators, and then the or operators.\n",
    "\n",
    "   not -> and -> or\n",
    "</div>"
   ]
  },
  {
   "cell_type": "markdown",
   "id": "3e649e7e",
   "metadata": {},
   "source": [
    "## Elements of Flow Control\n",
    "\n",
    "Flow control statements often start with a part called the condition, and all are followed by a block of code called the clause. \n",
    "\n",
    "<br>\n",
    "<b>Condition</b>:are the same thing as expressions; condition is just a more specific name in the context of flow control statements. Conditions always evaluate down to a Boolean value, True or False. A flow control statement decides what to do based on whether its condition is True or False, and almost every flow control statement uses a condition.\n",
    "\n",
    "<b>Blocks of Code</b>\n",
    "Lines of Python code can be grouped together in blocks. You can tell when a block begins and ends by looking at the indentation of the lines of code. There are three rules for blocks.\n",
    "\n",
    "\n",
    "<b>Program Execution: </b> Execution in python starts from top to bottom but many times it jups back and forth. Try tracing programs by your finger and you will notice it.\n",
    "\n",
    "\n",
    "<b>Statements: </b> This is the most crucial part of programming."
   ]
  },
  {
   "cell_type": "code",
   "execution_count": null,
   "id": "bdfade32",
   "metadata": {},
   "outputs": [],
   "source": []
  },
  {
   "cell_type": "code",
   "execution_count": null,
   "id": "9bb165d8",
   "metadata": {},
   "outputs": [],
   "source": []
  },
  {
   "cell_type": "code",
   "execution_count": null,
   "id": "f304a13e",
   "metadata": {},
   "outputs": [],
   "source": []
  },
  {
   "cell_type": "markdown",
   "id": "abce1361",
   "metadata": {},
   "source": [
    "### `if` statement"
   ]
  },
  {
   "cell_type": "markdown",
   "id": "cb30bea0",
   "metadata": {},
   "source": [
    "- The code written inside the `if` statement is executed only if a condition is satisfied.\n",
    "- This is very similar to your grades in school. if you are pass the test then you are promoted to the next grade.\n",
    "- You don't need to worry much about syntax it is just like speaking in English. Let's Take the above example and implement into our code. The variable result stores the result of a student.\n",
    "\n",
    "if statement consists of the following:\n",
    "\n",
    "1. The if keyword\n",
    "\n",
    "2. A condition (that is, an expression that evaluates to True or False)\n",
    "\n",
    "3. A colon(:)\n",
    "\n",
    "4. Starting on the next line, an indented block of code (called the if clause)"
   ]
  },
  {
   "cell_type": "code",
   "execution_count": 5,
   "id": "f2707ae6",
   "metadata": {},
   "outputs": [
    {
     "name": "stdout",
     "output_type": "stream",
     "text": [
      "Congrats you are promoted to next grade! \n"
     ]
    }
   ],
   "source": [
    "result=\"pass\"\n",
    "if result=='pass':\n",
    "    print(\"Congrats you are promoted to next grade! \")\n",
    "    \n"
   ]
  },
  {
   "cell_type": "markdown",
   "id": "67af6912",
   "metadata": {},
   "source": [
    "Some things to note here is declaration of string variable and it's comparison with another string using `==`"
   ]
  },
  {
   "cell_type": "markdown",
   "id": "ddbd4898",
   "metadata": {},
   "source": [
    "### ```else``` Statements"
   ]
  },
  {
   "cell_type": "markdown",
   "id": "9ba210d4",
   "metadata": {},
   "source": [
    "- Try to see the result by setting result=Fail in above example.\n",
    "You would have noticed that nothing is shown as output when result is set as 'Fail'. But you would like to tell the student\n",
    "something here is when the else comes in.\n",
    "- Again just as we speak If you pass you will be promoted to next grade else you won't be able to make it to next grade.\n",
    "\n",
    "\n"
   ]
  },
  {
   "cell_type": "code",
   "execution_count": 6,
   "id": "bdc47322",
   "metadata": {},
   "outputs": [
    {
     "name": "stdout",
     "output_type": "stream",
     "text": [
      "You won't be able to make it to next grade.\n"
     ]
    }
   ],
   "source": [
    "result=\"Fail\"\n",
    "if result=='pass':\n",
    "    print(\"Congrats you are promoted to next grade! \")\n",
    "    \n",
    "else:\n",
    "    print(\"You won't be able to make it to next grade.\")"
   ]
  },
  {
   "cell_type": "markdown",
   "id": "e1adeb8d",
   "metadata": {},
   "source": [
    "### ```elif``` Statements"
   ]
  },
  {
   "cell_type": "markdown",
   "id": "9d67df97",
   "metadata": {},
   "source": [
    "What if there are multiple conditions and not just two? Then you will be required to handle each of them separately?\n",
    "Example is the grading system in schools.\n"
   ]
  },
  {
   "cell_type": "code",
   "execution_count": 8,
   "id": "0e481bee",
   "metadata": {},
   "outputs": [
    {
     "name": "stdout",
     "output_type": "stream",
     "text": [
      "Enter your marks in %90\n",
      "Grade A\n"
     ]
    }
   ],
   "source": [
    "grade=int(input(\"Enter your marks in %\"))\n",
    "if grade>=90:\n",
    "    print('Grade A')\n",
    "elif grade>=80:\n",
    "    print('Grade B')\n",
    "elif grade>=70:\n",
    "    print('Grade C')\n",
    "elif grade>=60:\n",
    "    print('Grade D')\n",
    "else:\n",
    "    print(\"Invalid input \")"
   ]
  },
  {
   "cell_type": "markdown",
   "id": "209cdb52",
   "metadata": {},
   "source": [
    "Now this is a complete code that prints the grade you scored based on marks obtained and even handles the invalid input.\n",
    "You can think of many different examples for using these if else statements\n"
   ]
  },
  {
   "cell_type": "markdown",
   "id": "be45e14a",
   "metadata": {},
   "source": [
    "### Exercise"
   ]
  },
  {
   "cell_type": "markdown",
   "id": "974524c9",
   "metadata": {},
   "source": [
    "<div style=\"display: flex;\">\n",
    "    <div style=\"flex: 1; text-align: left;\">\n",
    "        Imagine you are working for RTO you can provide a valid car licence only if.\n",
    "        <br>\n",
    "        The conditions for licence are:\n",
    "        <ol>\n",
    "            <li> Below 16yrs: Not allowed to drive.\n",
    "            <li> Between 16 yrs-18yrs: Allowed to issue Learners Licence Not permanent.\n",
    "            <li> Above 18yrs: Allowed to ussye permanent Licence.\n",
    "       </ol>\n",
    "             Try to program by taking user input as age and verify the above conditions using conditionals, boolean and mathematical operators\n",
    "    </div>\n",
    "    <div style=\"flex: 1; text-align: right;\">\n",
    "        <img src=\"https://media.giphy.com/media/v1.Y2lkPTc5MGI3NjExNnJ6c3NzdjhlanUyMnhyd3VqOTl3eDY0eGk3OTJ5MThvY2NzM3A0bCZlcD12MV9pbnRlcm5hbF9naWZfYnlfaWQmY3Q9Zw/mlBDoVLOGidEc/giphy.gif\" alt=\"GIF Example\" style=\"width: 300px;\">\n",
    "    </div>\n",
    "</div>\n"
   ]
  },
  {
   "cell_type": "code",
   "execution_count": 1,
   "id": "9c180f55",
   "metadata": {},
   "outputs": [],
   "source": [
    "#Enter your code here\n",
    "\n",
    "#End your code "
   ]
  },
  {
   "cell_type": "markdown",
   "id": "2e8edf3e",
   "metadata": {},
   "source": [
    "<details>\n",
    "  <summary><font size=\"3\" color=\"darkgreen\"><b>Click for hints</b></font></summary>\n",
    "    \n",
    "    \n",
    "   \n",
    "    * Here's how you can structure the overall implementation for this question*\n",
    "    1. declare the variable age for taking in input from user\n",
    "    2. The input will be in string type use typecasting to convert it to `int`\n",
    "    3. Use if statement to start with a condition followed by elif and else finally (not compulsary to use else ).\n",
    "\n",
    "If you're still stuck, you can check the hints presented below to figure out\n",
    "    <details>\n",
    "          <summary><font size=\"2\" color=\"darkblue\"><b>Code</b></font></summary>\n",
    "                <code>\n",
    "                    age=int(input(\"Enter your age\"))\n",
    "                    if age<16:\n",
    "                          print(\"Not eligible for licence\")\n",
    "                    elif age>=16 and age<18:\n",
    "                        print(\"Eligible for learners licence\")\n",
    "                    elif age>18:\n",
    "                        print(\"Eligible for permanent licence\")\n",
    "               </code>   \n",
    "</details>\n",
    "     \n",
    "\n",
    "          "
   ]
  },
  {
   "cell_type": "markdown",
   "id": "352b4869",
   "metadata": {},
   "source": [
    "### Nested Conditionals Statements:"
   ]
  },
  {
   "cell_type": "markdown",
   "id": "35cd7cfc",
   "metadata": {},
   "source": [
    "- Nested if-else statements in Python allow you to have a conditional statement inside another conditional statement.<br>\n",
    "- This is useful when you want to test multiple conditions and execute corresponding code blocks.\n",
    "- Nested if-else statements are a powerful tool in programming, as they allow you to create more intricate decision-making processes to control the flow of your code based on multiple conditions.\n",
    "\n",
    "Let's visit our basic example for conditionals once again that was coming to AI Adventures Office from your home.\n",
    "If you live far away from our office you will find multiple turns and not just one.\n",
    "\n",
    "<div style=\"flex: 1; text-align: center;\">\n",
    "        <img src=\"https://www.sweetspot.com/en/wp-content/uploads/sites/5/2014/10/acquisition-or-retention.jpg\" alt=\"GIF Example\" style=\"width: 300px;\">\n",
    "    </div>\n"
   ]
  },
  {
   "cell_type": "markdown",
   "id": "13aa9240",
   "metadata": {},
   "source": [
    "\n",
    "        Your path will be like Take the first left ,then right, continue straight ,take right and so on...\n",
    "        Computer will treat it as:\n",
    "        \n",
    "        - At the first junction if  we take left then:\n",
    "            - At the second junction take right\n",
    "              - At the third Junction take left\n",
    "                     ...\n",
    "                        ...\n",
    "        \n",
    "        \n",
    "        \n",
    "        - At the first junction if we take right then:\n",
    "            - At the second junction take right\n",
    "                - At the third Junction take left\n",
    "                     ...\n",
    "                        ...\n",
    "        \n",
    "\n",
    "    \n",
    "\n"
   ]
  },
  {
   "cell_type": "markdown",
   "id": "72e3fb64",
   "metadata": {},
   "source": [
    "```python\n",
    "if condition1:\n",
    "    # Code block 1\n",
    "    if condition2:\n",
    "        # Code block 2\n",
    "    else:\n",
    "        # Code block 3\n",
    "else:\n",
    "    # Code block 4\n",
    "```\n",
    "\n",
    "Here's how it works:\n",
    "1. The first `if` statement is evaluated, and if the condition is `True`, its corresponding code block (Code block 1) is executed.\n",
    "2. Inside Code block 1, there is another `if` statement. If its condition (condition2) is `True`, Code block 2 is executed. Otherwise, Code block 3 is executed.\n",
    "3. If the condition of the first `if` statement is `False`, Code block 4 is executed.\n",
    "\n",
    "To understand it better, think of it as a decision-making process. If the first condition is true, you make a decision (Code block 1). Then, based on that decision, you make another decision (Code block 2 or Code block 3).\n",
    "\n",
    "This nesting can be done multiple times, allowing you to handle more complex scenarios with multiple levels of conditions and decisions. Just remember to maintain the indentation properly for each code block.\n"
   ]
  },
  {
   "cell_type": "markdown",
   "id": "24de067d",
   "metadata": {},
   "source": [
    "### Excercise"
   ]
  },
  {
   "cell_type": "markdown",
   "id": "7c8830ee",
   "metadata": {},
   "source": [
    "Take input from user \n",
    "1. Check if the input is a number or string\n",
    "\n",
    "2. If the input is number then\n",
    "\n",
    "3. check if it is positive,negative or zero\n",
    "\n",
    "4. if the number is positive classify it as even or odd\n",
    "    "
   ]
  },
  {
   "cell_type": "code",
   "execution_count": 1,
   "id": "26aaa118",
   "metadata": {},
   "outputs": [],
   "source": [
    "#Enter your code here\n",
    "\n",
    "\n",
    "\n",
    "#End your code "
   ]
  },
  {
   "cell_type": "markdown",
   "id": "f871602b",
   "metadata": {},
   "source": [
    "<details>\n",
    "  <summary><font size=\"3\" color=\"darkgreen\"><b>Click for hints</b></font></summary>\n",
    "\n",
    "  - **Hint 1:** Use the `input()` function to take input from the user and store it in a variable.\n",
    "\n",
    "  - **Hint 2:** To check if the input is a number or a string, you can use the `isdigit()` method to determine if the input consists of only digits.\n",
    "\n",
    "  - **Hint 3:** To check if a number is positive, negative, or zero, you can use if-elif-else statements. Use the `int()` function to convert the input to an integer for numeric comparisons. To determine if a positive number is even or odd, you can use the modulo operator `%` to check if the number is divisible by 2.\n",
    "    \n",
    "    <details>\n",
    "          <summary><font size=\"2\" color=\"darkblue\"><b>Hint to use isdigit()</b></font></summary>\n",
    "           Example:\n",
    "            user_input = input(\"Enter a value: \")<br>\n",
    "            print(user_input.isdigit())<br>        \n",
    "    </details>\n",
    "    \n",
    "    <details>\n",
    "          <summary><font size=\"2\" color=\"darkblue\"><b>Hint to convert input to int</b></font></summary>\n",
    "           Use typecasting as int(user_input)\n",
    "    </details>\n",
    "    \n",
    "    <details>\n",
    "          <summary><font size=\"2\" color=\"darkblue\"><b>Code Structure </b></font></summary>\n",
    "                \n",
    "                        # Take input from user\n",
    "                        input_value = input(\"Enter a number or a string:\")\n",
    "\n",
    "                        # Check if the input is a number or a string\n",
    "                        if input_value.isdigit():\n",
    "                            # Convert input to an integer\n",
    "                            number = int(input_value)\n",
    "\n",
    "                            # Check if the number is positive, negative, or zero\n",
    "                            if number > 0:\n",
    "                                print(\"The number is positive.\")\n",
    "\n",
    "                                # Check if the number is even or odd\n",
    "                                if number % 2 == 0:\n",
    "                                    print(\"The number is even.\")\n",
    "                                else:\n",
    "                                    print(\"The number is odd.\")\n",
    "                            ```elif number < 0:\n",
    "                                print(\"The number is negative.\")\n",
    "                            else:\n",
    "                                print(\"The number is zero.\")\n",
    "                        else:\n",
    "                            print(\"The input is a string.\")```\n",
    "             \n",
    "    </details>\n",
    "    \n",
    "</details>\n"
   ]
  },
  {
   "cell_type": "markdown",
   "id": "6bd05484",
   "metadata": {},
   "source": [
    "# Conclusion"
   ]
  },
  {
   "cell_type": "markdown",
   "id": "d9c5a4ca",
   "metadata": {},
   "source": [
    "- By using expressions that evaluate to True or False (also called conditions), you can write programs that make decisions on what code to execute and what code to skip.\n",
    "\n",
    "- These flow control statements will let you write much more intelligent programs.\n",
    "\n",
    "- Try out the Programming exercises for practice"
   ]
  },
  {
   "cell_type": "code",
   "execution_count": null,
   "id": "7f14bd3b",
   "metadata": {},
   "outputs": [],
   "source": []
  }
 ],
 "metadata": {
  "kernelspec": {
   "display_name": "Python 3 (ipykernel)",
   "language": "python",
   "name": "python3"
  },
  "language_info": {
   "codemirror_mode": {
    "name": "ipython",
    "version": 3
   },
   "file_extension": ".py",
   "mimetype": "text/x-python",
   "name": "python",
   "nbconvert_exporter": "python",
   "pygments_lexer": "ipython3",
   "version": "3.10.7"
  }
 },
 "nbformat": 4,
 "nbformat_minor": 5
}
