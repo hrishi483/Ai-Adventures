{
 "cells": [
  {
   "cell_type": "markdown",
   "id": "56378037",
   "metadata": {},
   "source": [
    "<img src=\"https://ai-adventures.github.io/pfds/_static/logo_com.png\" alt=\"Example Image\" style=\"width: 800px; height: 150px;\">\n"
   ]
  },
  {
   "cell_type": "markdown",
   "id": "fa35a9ac",
   "metadata": {},
   "source": [
    "# Loops"
   ]
  },
  {
   "cell_type": "markdown",
   "id": "7fa81f8f",
   "metadata": {},
   "source": [
    "<div>\n",
    "    <img src=\"https://cdn.discordapp.com/attachments/1061030698762379345/1130342833719619654/4512859a-f10d-47d1-ab5b-239cb406eb0c.jpg\" alt=\"Image\" style=\"float: right; margin-left: 20px; width: 200px;\">\n",
    "    <p>Loops are important in programming to create dynamic programs that can do a lot of different things.\n",
    "        <ol>\n",
    "        <li> The purpose of loops is to repeat the same or similar code a number of times, which can be specified to a certain number or dictated by a certain condition being met. \n",
    "         <li>There are usually a number of different types of loops included in programming languages, including for loops, while loops, and do....while loops.\n",
    "         <li> A computer programmer who needs to use the same lines of code many times in a program can use a loop to save time.\n",
    "     </p>\n",
    "</div>\n",
    "\n",
    "<br>\n",
    "If you still do not feel the importance of loops there is a small exercise for you :-\n",
    "\n",
    "<b><span style=\"color: black;\">Print your name for 100 times in the cell below </span><b>\n"
   ]
  },
  {
   "cell_type": "code",
   "execution_count": 40,
   "id": "a4f65eed",
   "metadata": {},
   "outputs": [],
   "source": [
    "#Type here"
   ]
  },
  {
   "cell_type": "markdown",
   "id": "cec748ba",
   "metadata": {},
   "source": [
    "<details>\n",
    "  <summary><font size=\"3\" color=\"darkgreen\"><b>Check this After you solve the Question </b></font></summary>\n",
    "\n",
    "  - **Approach 1:** Do the Hardwork sit and type your name 100 times manually.\n",
    "\n",
    "  - **Approach 2:** Use `*` for replication inside print.\n",
    "    `print('Ai Adventures'*100)`      \n",
    "</details>\n"
   ]
  },
  {
   "cell_type": "markdown",
   "id": "850f5390",
   "metadata": {},
   "source": [
    "- If you think that manually typing is comfortable then you are really a hardworking guy.😄\n",
    "<br>\n",
    "- You might think that string replication is easy and there is still no need for loops. What if I tell you to  \n",
    "ask 100 users to input there name one after another ?<br>\n",
    "- Now you will need to use loops.Let us now explore the types of Loops in python one by one"
   ]
  },
  {
   "cell_type": "markdown",
   "id": "146c5054",
   "metadata": {},
   "source": [
    "<div style=\"border-radius: 8px; background-color: #b3ffff; padding: 10px;\"><b>Defination:</b> Loops are control structures used to repeatedly execute a block of code until a certain condition is met. They allow for efficient and automated repetition of code, which is particularly useful when working with collections of data or when performing repetitive tasks.\n",
    "</div>"
   ]
  },
  {
   "cell_type": "markdown",
   "id": "dd4a30d5",
   "metadata": {},
   "source": [
    "## While Loop :"
   ]
  },
  {
   "cell_type": "markdown",
   "id": "59bb68ec",
   "metadata": {},
   "source": [
    "The code in a while clause will be executed as long as the while statement’s condition is True. In code, a while statement always consists of the following:\n",
    "- The while keyword\n",
    "\n",
    "- A condition (that is, an expression that evaluates to True or False). Remember the defination of statement from previous chapter\n",
    "-A colon(:)\n",
    "-Starting on the next line, an indented block of code (called the while clause)\n",
    "\n",
    "Execution of loop:- At the end of a while clause, the program execution jumps back to the start of the while statement. The while clause is often called the while loop or just the loop.\n",
    "\n",
    "- Structure of While Loop:\n",
    "\n",
    "<div>\n",
    "    <code>\n",
    "while conditional_expression:\n",
    "    Code block of while\n",
    "    <code>   \n",
    "<div>"
   ]
  },
  {
   "cell_type": "markdown",
   "id": "ac5080dc",
   "metadata": {},
   "source": [
    "<div>\n",
    "    <img src=\"https://www.shutterstock.com/image-photo/glass-jars-tasty-chocolate-chip-260nw-2179641509.jpg\" alt=\"Image\" style=\"float: right;  width: 800px;\">\n",
    "</div>"
   ]
  },
  {
   "cell_type": "markdown",
   "id": "1571e462",
   "metadata": {},
   "source": [
    "<ul>Example :</ul>Imagine you have a jar of delicious cookies, and you want to eat them one by one until you run out. You have a rule: \"Keep eating cookies until the jar is empty.\"\n",
    "You start by taking a cookie from the jar and eating it. Then you check if there are any cookies left in the jar. If there are still cookies, you take another one and eat it. You repeat this process until the jar is finally empty. Once there are no more cookies, you stop eating.\n",
    "In programming, a while loop works similarly. You set a condition, and as long as that condition is true, the loop keeps executing the instructions inside. Once the condition becomes false, the loop stops.\n",
    "\n",
    "Try translating this to code"
   ]
  },
  {
   "cell_type": "code",
   "execution_count": null,
   "id": "acb4d61e",
   "metadata": {},
   "outputs": [],
   "source": []
  },
  {
   "cell_type": "markdown",
   "id": "6215da71",
   "metadata": {},
   "source": [
    "<details>\n",
    "  <summary><font size=\"3\" color=\"darkgreen\"><b>Click for hints</b></font></summary>\n",
    "    \n",
    "    \n",
    "   \n",
    "    ** Here's how you can structure the overall implementation for this question **\n",
    "    1. declare the variable cookie_in_jar by taking in input from user\n",
    "    2. The input will be in string type use typecasting to convert it to `int`\n",
    "    3. Use conditional statement to check if cookie_in_jar is ```< 0```.\n",
    "    4. After you eat one cookie you need to decrement the count by 1.                                                                            \n",
    "\n",
    "If you are still stuck, you can check the hints presented below to figure out\n",
    "     <details>\n",
    "          <summary><font size=\"2\" color=\"darkblue\"><b>Code</b></font></summary>\n",
    "                \n",
    "                    cookies_in_jar = 10\n",
    "                    while cookies_in_jar > 0:\n",
    "                        print(\"Eating a cookie...\")\n",
    "                        cookies_in_jar -= 1\n",
    "                        print(\"Cookie Left = \",cookies_in_jar)\n",
    "      <details>\n",
    "      <summary><font size=\"2\" color=\"darkblue\"><b>Code Explanation</b></font></summary>\n",
    "        \n",
    "     In this code, we start with a variable cookies_in_jar set to 10, representing the number of cookies in the jar. The       condition in the while loop is cookies_in_jar > 0, which means \"Keep eating cookies as long as there are more than         Inside the loop, we print the message \"Eating a cookie...\" to simulate eating a cookie, and then we decrease the value     of cookies_in_jar by 1 using the -= 1 notation. This process continues until the jar is empty (when cookies_in_jar         becomes 0), and the loop stops.\n",
    "</details>\n",
    "     \n",
    "\n",
    "          "
   ]
  },
  {
   "cell_type": "code",
   "execution_count": 41,
   "id": "ba870346",
   "metadata": {},
   "outputs": [],
   "source": [
    "# What happens if you do not mention the decrement condition for cookies in your while loop?"
   ]
  },
  {
   "cell_type": "markdown",
   "id": "01dd4e1e",
   "metadata": {},
   "source": [
    "<details>\n",
    "  <summary><font size=\"3\" color=\"darkgreen\"><b>Click to learn about infinite While Loop</b></font></summary>\n",
    "    An infinite while loop is a programming construct that repeatedly executes a block of code as long as a specified           condition remains true. Unlike regular while loops, which terminate when the condition becomes false, an infinite while    loop has no predefined termination condition. As a result, the loop continues indefinitely until it is manually            interrupted or a break statement is encountered within the loop's body. Infinite while loops are often used for tasks       that require continuous execution, such as event-driven programming or real-time applications.\n",
    "    \n",
    "    \n",
    "  \n"
   ]
  },
  {
   "cell_type": "code",
   "execution_count": null,
   "id": "f497aae4",
   "metadata": {},
   "outputs": [],
   "source": []
  },
  {
   "cell_type": "markdown",
   "id": "a79bb190",
   "metadata": {},
   "source": [
    "## For Loop:"
   ]
  },
  {
   "cell_type": "markdown",
   "id": "5c78807d",
   "metadata": {},
   "source": [
    "A for loop is a programming construct that allows you to repeat a block of code for a specific number of times. I\n",
    "For loops are commonly used when you know the exact number of iterations required or when iterating over a collection or range of values. They provide a convenient and concise way to write repetitive code and are widely used in programming for tasks like iterating performing calculations, or processing a sequence of elements.\n",
    "Components of a for Loop:\n",
    "\n",
    "1. for: The keyword that indicates the start of the loop.\n",
    "2. variable: A variable that will take on the value of each element in the iterable during each iteration of the loop. You can choose any valid variable name.\n",
    "3. in: The keyword that separates the loop variable from the iterable.\n",
    "4. iterable: A collection of elements that the loop will iterate over. An iterable can be a list, tuple, string, dictionary, set, or any other object that supports iteration. We will learn more about iterables later in this course.\n",
    "6. A colon (:)\n",
    "5. Code block: The indented section of code that will be executed for each element in the iterable. This is the body of the loop where you write the instructions to be repeated.\n",
    "This is how the complete code looks like …\n",
    "\n",
    "<code>\n",
    "for variable in iterable:\n",
    "    # Code block to be executed inside the loop\n",
    "    print(variable)\n",
    "    # Indentation is crucial in Python to define the loop body`\n",
    "</code>\n"
   ]
  },
  {
   "cell_type": "markdown",
   "id": "68155823",
   "metadata": {},
   "source": []
  },
  {
   "cell_type": "markdown",
   "id": "bbe842a3",
   "metadata": {},
   "source": [
    "## Difference between For & While Loops:"
   ]
  },
  {
   "cell_type": "markdown",
   "id": "f18d8539",
   "metadata": {},
   "source": [
    "| For Loop                                                      | While Loop                                                  |\n",
    "|:-------------------------------------------------------------:|:------------------------------------------------------------:|\n",
    "| A for loop is used when the number of iterations is known beforehand or when you want to iterate over a sequence. | A while loop is used when you want to repeat a block of code as long as a specific condition is true. |\n",
    "| E.g. When we want to print names and scores of students in a class, we know the number of students or have their names as a list. Here we can use a for loop. | E.g. Suppose you are building a Dino game, and the condition for the game is \"until the Dino is alive: Run the game.\" You can run the game inside a while loop. |\n"
   ]
  },
  {
   "cell_type": "markdown",
   "id": "08e81a81",
   "metadata": {},
   "source": [
    "## `range()` function:"
   ]
  },
  {
   "cell_type": "markdown",
   "id": "1d0e4ab9",
   "metadata": {},
   "source": [
    "- This function has multiple arguments separated by a comma.\n",
    "- This creates an iterable which we have mentioned above.\n",
    "- The range() function can also be called with three arguments. The first two arguments will be the start and stop values, and the third will be the step argument. The step is the amount that the variable is increased by after each iteration.So calling range(0, 10, 2) will count from zero to eight by intervals of two.\n",
    "- you can even use a negative number for the step argument to make the for loop count down instead of up.Try using in range(5,-1,-1) for loop  and see the output.\n",
    "\n",
    "\n"
   ]
  },
  {
   "cell_type": "code",
   "execution_count": 43,
   "id": "1d408f7c",
   "metadata": {},
   "outputs": [
    {
     "name": "stdout",
     "output_type": "stream",
     "text": [
      "12\n",
      "13\n",
      "14\n",
      "15\n"
     ]
    }
   ],
   "source": [
    "for i in range(12, 16):\n",
    "    print(i)"
   ]
  },
  {
   "cell_type": "markdown",
   "id": "b952f566",
   "metadata": {},
   "source": [
    "#### Try implementing a infinite loop using for"
   ]
  },
  {
   "cell_type": "code",
   "execution_count": 44,
   "id": "e9cd7f1f",
   "metadata": {},
   "outputs": [],
   "source": [
    "# Try Genrating an infinite loop using for :\n"
   ]
  },
  {
   "cell_type": "markdown",
   "id": "f84a2e5b",
   "metadata": {},
   "source": [
    "<details>\n",
    "  <summary><font size=\"3\" color=\"darkgreen\"><b>Click for hints</b></font></summary>\n",
    "    There is no way using <b>only</b> the for loop and range function.\n",
    "    To understand it better you can ask mentors.\n",
    "    After next few modules you will be able to implement in using for loop and interables.\n",
    "    \n",
    "   \n",
    "    \n",
    "\n",
    "If you're interested click below to see how to implement using lists:\n",
    "    <details>\n",
    "          <summary><font size=\"2\" color=\"darkblue\"><b>Code</b></font></summary>\n",
    "                    <code>\n",
    "                        l=[1]\n",
    "                        for i in l:\n",
    "                            l.append(i+1)\n",
    "                            print(i)\n",
    "                   </code>   \n",
    "</details>\n",
    "     \n",
    "\n",
    "          "
   ]
  },
  {
   "cell_type": "code",
   "execution_count": null,
   "id": "cb82d9c6",
   "metadata": {},
   "outputs": [],
   "source": []
  },
  {
   "cell_type": "markdown",
   "id": "848a1ee3",
   "metadata": {},
   "source": [
    "<h4>Question</h4>\n",
    "<div style=\"text-align: left\">\n",
    "    <img src=\"https://plus.maths.org/content/sites/plus.maths.org/files/articles/2020/triangular/triangular.png\" alt=\"Cute Cat\" style=\"height: 200px; width: 400px; float: left; \">\n",
    "    <b>Problem Statement</b>:Write a Python program to find the first n elements of the \"Triangular Number Sequence\" and calculate their sum. The triangular number sequence is a series of numbers obtained by adding consecutive natural numbers. The nth term of the sequence is given by the sum of the first n natural numbers. For example, the first 5 triangular numbers are: 1, 3, 6, 10, 15.<br>\n",
    "</div>\n"
   ]
  },
  {
   "cell_type": "code",
   "execution_count": 45,
   "id": "20345a81",
   "metadata": {},
   "outputs": [],
   "source": [
    "#Code here"
   ]
  },
  {
   "cell_type": "markdown",
   "id": "d6813c2f",
   "metadata": {},
   "source": [
    "<details>\n",
    "  <summary><font size=\"3\" color=\"darkgreen\"><b>Click for hints</b></font></summary>\n",
    "    \n",
    "    \n",
    "   \n",
    "    * Here's how you can structure the overall implementation for this question*\n",
    "    1. The nth triangular number can be calculated using the formula: nth_triangular = 1 + 2 + 3 + ... + n. It is the sum of the first n natural numbers. \n",
    "    2. Use a loop (for loop) to iterate from 1 to n (inclusive) to generate the first n triangular numbers. \n",
    "\n",
    "If you're still stuck, you can check the code presented below to figure out\n",
    "    <details>\n",
    "          <summary><font size=\"2\" color=\"darkblue\"><b>Code</b></font></summary>\n",
    "                <code>\n",
    "                    sum_triangular = 0\n",
    "                    for i in range(1, n + 1):\n",
    "                        sum_triangular += i\n",
    "                        print(sum_triangular, end=' ')  # Print each triangular number on the same line\n",
    "\n",
    "                  \n",
    "</details>\n",
    "     \n",
    "\n",
    "          "
   ]
  },
  {
   "cell_type": "markdown",
   "id": "4a56d00e",
   "metadata": {},
   "source": [
    "## Equivalence of For and While Loops:\n",
    "\n",
    "<div>\n",
    "    <img src=\"https://cdn-icons-png.flaticon.com/512/5519/5519809.png\" alt=\"Image\" style=\"float: right; margin-left: 20px; width: 200px;\">\n",
    "    <p>\n",
    "        <ol>\n",
    "                <li>For Loop to While Loop:\n",
    "                <ul>\n",
    "                    <li> Identify the range or sequence that the for loop is iterating over.\n",
    "                    <li> Initialize a loop control variable before the loop, based on the start value of the for loop.\n",
    "                    <li> Use a while loop with a condition that corresponds to the end condition of the for loop.\n",
    "                    <li> Update the loop control variable in each iteration to mimic the behavior of the for loop.\n",
    "                </ul>\n",
    "                <li>While Loop to For Loop:\n",
    "    To convert a while loop into a for loop, you need to know the number of iterations beforehand or determine the stop     condition explicitly.\n",
    "\n",
    "\n",
    "</div>\n"
   ]
  },
  {
   "cell_type": "markdown",
   "id": "fec69fb6",
   "metadata": {},
   "source": [
    "Q.print the first five even numbers (2, 4, 6, 8, 10). We can achieve this using a \"for\" loop as follows:\n",
    "\n",
    "#### Using a for loop\n",
    "<code>\n",
    "for num in range(2, 11, 2):  # The range function generates numbers from 2 to 10 (exclusive) with a step of 2.\n",
    "    print(num)\n",
    "</code>\n",
    "    \n",
    "#### Using While loop\n",
    "<code>\n",
    "num = 2\n",
    "while num <= 10:\n",
    "    print(num)\n",
    "    num += 2  \n",
    "</code>\n",
    "Try executing the code in cells provided below."
   ]
  },
  {
   "cell_type": "code",
   "execution_count": 46,
   "id": "b156c165",
   "metadata": {},
   "outputs": [],
   "source": [
    "#Try Here\n"
   ]
  },
  {
   "cell_type": "markdown",
   "id": "5d019e13",
   "metadata": {},
   "source": [
    "<h4>Exercise</h4>\n",
    "<div style=\"text-align: left\">\n",
    "    <img src=\"https://img.freepik.com/premium-vector/cute-panda-lifting-barbell-cartoon-vector-icon-illustration-animal-sport-icon-concept-isolated-flat_138676-4963.jpg?w=740\" alt=\"Cute Cat\" style=\"height: 200px; width: 200px; float: left; margin-right: 20px;\">\n",
    "    Question: Write a program to calculate the sum of all even numbers from 1 to N (inclusive), where N is a positive integer provided by the user using both for loop and while loop.<br>\n",
    "   Compare the answer from both the loops.<br>\n",
    "   Also think which one was easier to implement and why?<br>\n",
    "</div>\n"
   ]
  },
  {
   "cell_type": "code",
   "execution_count": 47,
   "id": "dbc1b727",
   "metadata": {},
   "outputs": [],
   "source": [
    "#While Loop "
   ]
  },
  {
   "cell_type": "code",
   "execution_count": 48,
   "id": "7efc45c3",
   "metadata": {},
   "outputs": [],
   "source": [
    "#For Loop"
   ]
  },
  {
   "cell_type": "markdown",
   "id": "4cea3554",
   "metadata": {},
   "source": [
    "<details>\n",
    "  <summary><font size=\"3\" color=\"darkgreen\"><b>Click for hints</b></font></summary>\n",
    "    \n",
    "    \n",
    "   \n",
    "    * Here's how you can structure the overall implementation for this question*\n",
    "    1. Identify the range: The problem specifies that you need to consider all even numbers from 1 to N. So, you should know the starting and ending points for the range of numbers you need to consider.    \n",
    "    2. For each number in the range, check if it is even. If it is even, add it to the running sum of even numbers.\n",
    "        Even numbers are divisible by 2 i.e num%2==0.\n",
    "    3. : After each iteration, update the necessary variables to proceed with the next iteration.\n",
    "    If you're still stuck, you can check the check the code presented below to figure out\n",
    " </details>\n",
    "     \n",
    " <details>\n",
    "          <summary><font size=\"2\" color=\"darkblue\"><b>Code</b></font></summary>\n",
    "    <b>For Loop</b>\n",
    "               <code>    \n",
    "                    sum_even = 0\n",
    "                    for num in range(1, N+1):\n",
    "                        if num % 2 == 0:\n",
    "                            sum_even += num\n",
    "                 \n",
    " **While Loop**\n",
    "                  \n",
    "                    sum_even = 0\n",
    "                    num = 1\n",
    "                    while num <= N:\n",
    "                        if num % 2 == 0:\n",
    "                            sum_even += num\n",
    "                        num += 1\n",
    "                                        \n",
    "</details>\n",
    "          "
   ]
  },
  {
   "cell_type": "markdown",
   "id": "734cd017",
   "metadata": {},
   "source": [
    "## `break` Statement:"
   ]
  },
  {
   "cell_type": "markdown",
   "id": "18d1e60b",
   "metadata": {},
   "source": [
    "- The break statement in Python is used to abruptly terminate the execution of a loop.\n",
    "- The break statement immediately exits the loop, regardless of whether the loop condition is still true or not.\n",
    "1. When the break statement is encountered, the program execution jumps to the next statement after the loop.\n",
    "2. The break statement allows you to prematurely exit the loop based on a certain condition or criteria.\n",
    "3. It is often used in conjunction with conditional statements or to handle specific cases where you want to stop the loop execution.\n"
   ]
  },
  {
   "cell_type": "code",
   "execution_count": 49,
   "id": "a3907a6f",
   "metadata": {},
   "outputs": [
    {
     "name": "stdout",
     "output_type": "stream",
     "text": [
      "Enter a number: \n"
     ]
    },
    {
     "ename": "ValueError",
     "evalue": "invalid literal for int() with base 10: ''",
     "output_type": "error",
     "traceback": [
      "\u001b[1;31m---------------------------------------------------------------------------\u001b[0m",
      "\u001b[1;31mValueError\u001b[0m                                Traceback (most recent call last)",
      "Cell \u001b[1;32mIn[49], line 2\u001b[0m\n\u001b[0;32m      1\u001b[0m \u001b[38;5;28;01mwhile\u001b[39;00m \u001b[38;5;28;01mTrue\u001b[39;00m:\n\u001b[1;32m----> 2\u001b[0m     num \u001b[38;5;241m=\u001b[39m \u001b[38;5;28;43mint\u001b[39;49m\u001b[43m(\u001b[49m\u001b[38;5;28;43minput\u001b[39;49m\u001b[43m(\u001b[49m\u001b[38;5;124;43m\"\u001b[39;49m\u001b[38;5;124;43mEnter a number: \u001b[39;49m\u001b[38;5;124;43m\"\u001b[39;49m\u001b[43m)\u001b[49m\u001b[43m)\u001b[49m\n\u001b[0;32m      3\u001b[0m     \u001b[38;5;28;01mif\u001b[39;00m num \u001b[38;5;241m<\u001b[39m \u001b[38;5;241m0\u001b[39m:\n\u001b[0;32m      4\u001b[0m         \u001b[38;5;28;01mbreak\u001b[39;00m  \u001b[38;5;66;03m# If a negative number is entered, the loop will exit.\u001b[39;00m\n",
      "\u001b[1;31mValueError\u001b[0m: invalid literal for int() with base 10: ''"
     ]
    }
   ],
   "source": [
    "while True:\n",
    "    num = int(input(\"Enter a number: \"))\n",
    "    if num < 0:\n",
    "        break  # If a negative number is entered, the loop will exit.\n",
    "    print(\"Number squared:\", num ** 2)"
   ]
  },
  {
   "cell_type": "code",
   "execution_count": 50,
   "id": "8e269caf",
   "metadata": {},
   "outputs": [
    {
     "name": "stdout",
     "output_type": "stream",
     "text": [
      "1 2 3 4 5 6 7 8 9 10 "
     ]
    }
   ],
   "source": [
    "for n in range(1,20):\n",
    "    print(n, end=' ')\n",
    "    if n % 10 == 0:\n",
    "        break\n"
   ]
  },
  {
   "cell_type": "markdown",
   "id": "ac6b6f40",
   "metadata": {},
   "source": [
    "## `Continue` Statement:\n",
    "- The continue statement immediately jumps to the next iteration of the loop, effectively bypassing the subsequent statements in the loop block for that particular iteration.\n",
    "- These can be used in both for and while loops.\n",
    "- Here is an example. "
   ]
  },
  {
   "cell_type": "code",
   "execution_count": 51,
   "id": "968ecb8a",
   "metadata": {},
   "outputs": [
    {
     "name": "stdout",
     "output_type": "stream",
     "text": [
      "1 3 5 7 9 11 13 15 17 19 "
     ]
    }
   ],
   "source": [
    "for n in range(20):\n",
    "    if n % 2 == 0:\n",
    "        continue\n",
    "    print(n, end=' ')"
   ]
  },
  {
   "cell_type": "markdown",
   "id": "220baa25",
   "metadata": {},
   "source": [
    "- If the current number is divisible by 5, the continue statement is executed, and the rest of the loop block is skipped for this iteration. The loop immediately moves to the next iteration without printing or executing any further code."
   ]
  },
  {
   "cell_type": "markdown",
   "id": "aebcf9ed",
   "metadata": {},
   "source": [
    "<h4>Question</h4>\n",
    "<div style=\"text-align: left\">\n",
    "    <img src=\"https://img.freepik.com/premium-vector/cute-panda-studying-icon-illustration-panda-mascot-cartoon-character-animal-icon-concept-isolated_138676-847.jpg\" alt=\"Cute Cat\" style=\"height: 200px; width: 200px; float: right; margin-right: 20px;\">\n",
    "    This is the End of this module now let's apply all the concepts learned in this final question:<br>\n",
    "Write a Python program to find and print all the even numbers between 1 and 20. However, if the number is divisible by 4, skip printing that number and continue to the next number. If the number is greater than 16, stop the loop..<br>\n",
    "    \n",
    "You need to solve using both the for and while loops.   \n",
    "    \n",
    "   \n"
   ]
  },
  {
   "cell_type": "code",
   "execution_count": 52,
   "id": "d1149f68",
   "metadata": {},
   "outputs": [],
   "source": [
    "#Code here"
   ]
  },
  {
   "cell_type": "markdown",
   "id": "ab459f17",
   "metadata": {},
   "source": [
    "<details>\n",
    "  <summary><font size=\"3\" color=\"darkgreen\"><b>Click for hints</b></font></summary>\n",
    "\n",
    "    * Here is how you can structure the overall implementation for this question*\n",
    "    1. Use Loop to iterate through the sequence\n",
    "    2. Use if-else statements to check conditions.\n",
    "    3. By using break and continue statements you can either skip the iteration or exit from the loop.\n",
    "\n",
    "If you're still stuck, you can check the code presented below to figure out\n",
    "    <details>\n",
    "          <summary><font size=\"2\" color=\"darkblue\"><b>Code</b></font></summary>\n",
    "                <code>\n",
    "                    \n",
    "           ** For Loop **\n",
    "                    for number in range(1, 21):\n",
    "                    if number > 16:\n",
    "                        break\n",
    "\n",
    "                    if number % 4 == 0:\n",
    "                        continue\n",
    "\n",
    "                    if number % 2 == 0:\n",
    "                        print(number)\n",
    "        \n",
    "           ** While Loop **\n",
    "                    number = 1\n",
    "                    while number < 21:\n",
    "                        if number > 16:\n",
    "                            break\n",
    "\n",
    "                        if number % 4 == 0:\n",
    "                            number += 1\n",
    "                            continue\n",
    "\n",
    "                        if number % 2 == 0:\n",
    "                            print(number)\n",
    "\n",
    "                        number += 1\n",
    " \n",
    "                \n",
    "                   \n",
    "</details>\n",
    "     \n",
    "          "
   ]
  },
  {
   "cell_type": "markdown",
   "id": "0efe0e12",
   "metadata": {},
   "source": [
    "# Conclusion:\n",
    "- Congratulations on completing the Loop Chapter!.Loops are powerful constructs that allow you to repeat a block of code multiple times, making your programs more efficient and flexible.\n",
    "- You have learned about two main types of loops: the for loop and the while loop.\n",
    "- various loop control statements, such as break and continue, which provide ways to modify the behavior of loops.\n",
    "- Try out the exercises.ALL THE BEST !"
   ]
  },
  {
   "cell_type": "code",
   "execution_count": null,
   "id": "905d9795",
   "metadata": {},
   "outputs": [],
   "source": []
  },
  {
   "cell_type": "code",
   "execution_count": null,
   "id": "b349b58d",
   "metadata": {},
   "outputs": [],
   "source": []
  },
  {
   "cell_type": "code",
   "execution_count": null,
   "id": "1d9ea329",
   "metadata": {},
   "outputs": [],
   "source": []
  }
 ],
 "metadata": {
  "kernelspec": {
   "display_name": "Python 3 (ipykernel)",
   "language": "python",
   "name": "python3"
  },
  "language_info": {
   "codemirror_mode": {
    "name": "ipython",
    "version": 3
   },
   "file_extension": ".py",
   "mimetype": "text/x-python",
   "name": "python",
   "nbconvert_exporter": "python",
   "pygments_lexer": "ipython3",
   "version": "3.10.7"
  }
 },
 "nbformat": 4,
 "nbformat_minor": 5
}
