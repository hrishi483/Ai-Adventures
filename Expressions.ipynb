{
 "cells": [
  {
   "cell_type": "markdown",
   "id": "653527ca",
   "metadata": {},
   "source": [
    "<img src=\"https://ai-adventures.github.io/pfds/_static/logo_com.png\" alt=\"Example Image\" style=\"width: 800px; height: 150px;\">\n"
   ]
  },
  {
   "cell_type": "markdown",
   "id": "2b9224a0",
   "metadata": {},
   "source": [
    "![OpenAI Logo](https://encrypted-tbn0.gstatic.com/images?q=tbn:ANd9GcRNMaZrNXk-1UJIvH88xaZynN_fI26q-gCmKhFfMMXKB9mLF21_l2ilM-ROvhJxyjcdUFM&usqp=CAU)"
   ]
  },
  {
   "cell_type": "markdown",
   "id": "dae68321",
   "metadata": {},
   "source": [
    "Dont be Afraid Programming in Python is way easier as compared to catching real python "
   ]
  },
  {
   "cell_type": "markdown",
   "id": "00d09879",
   "metadata": {},
   "source": [
    "* What is Python?\n",
    "Python is a general-purpose, high-level programming language. It is interpreted, meaning that code can be executed as soon as it is written. Python is known for its simple syntax, which makes it easy to learn and use. It is also a versatile language that can be used for a wide variety of tasks, including web development, data science, and machine learning.\n",
    "\n",
    "</br>\n",
    "\n",
    "- Don't be afraid to ask for help. If you get stuck, don't be afraid to ask for help.There are many online forums and communities where you can get help from other Python programmers."
   ]
  },
  {
   "cell_type": "markdown",
   "id": "3840f6a7",
   "metadata": {},
   "source": [
    "### Comments"
   ]
  },
  {
   "cell_type": "markdown",
   "id": "06bd6d7f",
   "metadata": {},
   "source": [
    "- Comments in programming languages are lines of text that are ignored by the compiler or interpreter and serve as notes for programmers.\n",
    "- They provide a way to add explanations, document code, or temporarily disable specific sections without affecting program execution. Comments enhance code readability and facilitate collaboration by making the purpose and functionality of code clearer. \n",
    "- They can be single-line comments, starting with a specific symbol, or multi-line comments that span multiple lines. Comments are essential for self-documenting code and making it easier for other developers to understand and maintain the codebase.\n",
    "- You can use `#` before the sentence to begin with single line comment or use `\"\"\"Comment here \"\"\"` for multiline comment."
   ]
  },
  {
   "cell_type": "markdown",
   "id": "6a6e3784",
   "metadata": {},
   "source": [
    "<div style=\"border-radius: 8px; background-color: #ffffcc; padding: 10px;\"><b>Note:</b>#” in front of a line of code to temporarily remove it while testing a program. This is called commenting out code, and it can be useful when you’re trying to figure out why a program doesn’t work.</div>"
   ]
  },
  {
   "cell_type": "markdown",
   "id": "daa5bb2b",
   "metadata": {},
   "source": [
    "### Print() "
   ]
  },
  {
   "cell_type": "markdown",
   "id": "0eee55bf",
   "metadata": {},
   "source": [
    "- The print() function displays the string value inside the parentheses on the screen.\n",
    "- Run this code in cell :- print(\"AI Adventures\")\n",
    "- When Python executes this line, you say that Python is calling the print() function and the string value is being passed to the function. A value that is passed to a function call is an argument. Notice that the quotes are not printed to the screen. They just mark where the string begins and ends; they are not part of the string value."
   ]
  },
  {
   "cell_type": "code",
   "execution_count": 3,
   "id": "adb164db",
   "metadata": {},
   "outputs": [
    {
     "name": "stdout",
     "output_type": "stream",
     "text": [
      "Welcome to AI Adventures\n"
     ]
    }
   ],
   "source": [
    "print(\"Welcome to AI Adventures\")"
   ]
  },
  {
   "cell_type": "markdown",
   "id": "5f4f69aa",
   "metadata": {},
   "source": [
    "### Input Function:"
   ]
  },
  {
   "cell_type": "markdown",
   "id": "dc143bf7",
   "metadata": {},
   "source": [
    "- The input() function waits for the user to type some text on the keyboard and press ENTER.\n",
    "- By default the input is a string so remember to convert it to desired type before using it."
   ]
  },
  {
   "cell_type": "code",
   "execution_count": 4,
   "id": "21ae0067",
   "metadata": {},
   "outputs": [
    {
     "name": "stdout",
     "output_type": "stream",
     "text": [
      "Enter your name Hrishikesh\n"
     ]
    },
    {
     "data": {
      "text/plain": [
       "'Hrishikesh'"
      ]
     },
     "execution_count": 4,
     "metadata": {},
     "output_type": "execute_result"
    }
   ],
   "source": [
    "input(\"Enter your name \")"
   ]
  },
  {
   "cell_type": "markdown",
   "id": "22e5d75a",
   "metadata": {},
   "source": [
    "`function` might seem a new word here don't worry for some time remember it as someone who is specialist at doing his job and \n",
    "you are just calling it.... sounds strange right? \n",
    "We will learn how to build the specialist later in this course.\n"
   ]
  },
  {
   "cell_type": "markdown",
   "id": "0646cabe",
   "metadata": {},
   "source": [
    "<h1> Expressions in Python </h1>"
   ]
  },
  {
   "cell_type": "markdown",
   "id": "9ec820bf",
   "metadata": {},
   "source": [
    "let us start with the first module Expression.\n",
    "\n",
    "- Expressions consist of values (such as 2) and operators (such as +), and they can always evaluate (that is, reduce) down to a single value.\n",
    "\n",
    "</br>\n",
    "\n",
    "- There are plenty of Operators in Python initially let us start with the basic maths operator which can be listed here\n",
    "\n"
   ]
  },
  {
   "cell_type": "code",
   "execution_count": 5,
   "id": "28988c2c",
   "metadata": {},
   "outputs": [],
   "source": [
    "### Try the maths operator to verify the results"
   ]
  },
  {
   "cell_type": "markdown",
   "id": "2970a749",
   "metadata": {},
   "source": [
    "- The order of operations in Python follows the rules of mathematics with parentheses overriding the usual precedence\n",
    "\n",
    "<br>\n",
    "\n",
    "-  The ** operator is evaluated first; the *, /, //, and % operators are evaluated next, from left to right; and the + and - operators are evaluated last (also from left to right)\n",
    "\n",
    ". You can use parentheses () to override the usual precedence if you need to. Let’s see some example:"
   ]
  },
  {
   "cell_type": "code",
   "execution_count": 1,
   "id": "8fc9b315",
   "metadata": {
    "hide_input": true
   },
   "outputs": [
    {
     "data": {
      "application/vnd.jupyter.widget-view+json": {
       "model_id": "fdae4b0f49e04adca254f0f10042a8e4",
       "version_major": 2,
       "version_minor": 0
      },
      "text/plain": [
       "HTML(value='<h3>Evaluate 1 + 2 * 3=?</h3>')"
      ]
     },
     "metadata": {},
     "output_type": "display_data"
    },
    {
     "data": {
      "application/vnd.jupyter.widget-view+json": {
       "model_id": "abccdfa64cbe420eb6dacfd08b359c61",
       "version_major": 2,
       "version_minor": 0
      },
      "text/plain": [
       "Checkbox(value=False, description='9')"
      ]
     },
     "metadata": {},
     "output_type": "display_data"
    },
    {
     "data": {
      "application/vnd.jupyter.widget-view+json": {
       "model_id": "4a2f86fa85f5453e8b53415993e31602",
       "version_major": 2,
       "version_minor": 0
      },
      "text/plain": [
       "Checkbox(value=False, description='7')"
      ]
     },
     "metadata": {},
     "output_type": "display_data"
    },
    {
     "data": {
      "application/vnd.jupyter.widget-view+json": {
       "model_id": "b8b8e17906b145a48a688fbeb0534173",
       "version_major": 2,
       "version_minor": 0
      },
      "text/plain": [
       "Button(description='Submit', style=ButtonStyle())"
      ]
     },
     "metadata": {},
     "output_type": "display_data"
    }
   ],
   "source": [
    "# @hidden_cell\n",
    "\n",
    "\n",
    "import ipywidgets as widgets\n",
    "from IPython.display import display\n",
    "\n",
    "question = widgets.HTML(value='<h3>Evaluate 1 + 2 * 3=?</h3>')\n",
    "\n",
    "options = [\n",
    "    widgets.Checkbox(description='9'),\n",
    "    widgets.Checkbox(description='7'),\n",
    "#     widgets.Checkbox(description='')\n",
    "]\n",
    "\n",
    "def check_answers(button):\n",
    "    correct_answer = options[1].value\n",
    "    if correct_answer:\n",
    "        print(\"First there will be Multiplication then addition.\")\n",
    "    else:\n",
    "        print(\"Check precedence of * and + Operator \")\n",
    "\n",
    "submit_button = widgets.Button(description='Submit')\n",
    "submit_button.on_click(check_answers)\n",
    "\n",
    "display(question)\n",
    "display(*options)\n",
    "display(submit_button)\n"
   ]
  },
  {
   "cell_type": "code",
   "execution_count": 7,
   "id": "f54eb2a3",
   "metadata": {
    "hide_input": false
   },
   "outputs": [
    {
     "data": {
      "text/plain": [
       "7"
      ]
     },
     "execution_count": 7,
     "metadata": {},
     "output_type": "execute_result"
    }
   ],
   "source": [
    "#Run the below cell to see the output\n",
    "\n",
    "1+2*3"
   ]
  },
  {
   "cell_type": "markdown",
   "id": "bec935a8",
   "metadata": {},
   "source": [
    "- So you might now wonder can we change the precedence as per our choice.\n",
    "<br>\n",
    "Well we can Surely do it by using paranthesis,**'()'**. Run the code cells below and try to understand what is happening?"
   ]
  },
  {
   "cell_type": "code",
   "execution_count": 8,
   "id": "4cd408ad",
   "metadata": {},
   "outputs": [
    {
     "data": {
      "text/plain": [
       "7"
      ]
     },
     "execution_count": 8,
     "metadata": {},
     "output_type": "execute_result"
    }
   ],
   "source": [
    "1 + 2 * 3"
   ]
  },
  {
   "cell_type": "code",
   "execution_count": 9,
   "id": "5d390c8c",
   "metadata": {},
   "outputs": [
    {
     "data": {
      "text/plain": [
       "9"
      ]
     },
     "execution_count": 9,
     "metadata": {},
     "output_type": "execute_result"
    }
   ],
   "source": [
    "(1 + 2) * 3"
   ]
  },
  {
   "cell_type": "code",
   "execution_count": 10,
   "id": "7cb288fd",
   "metadata": {
    "hide_input": true
   },
   "outputs": [
    {
     "data": {
      "application/vnd.jupyter.widget-view+json": {
       "model_id": "9860c86e59624ed491a1080a973a1c06",
       "version_major": 2,
       "version_minor": 0
      },
      "text/plain": [
       "HTML(value='<h3>(4 - 1) * ((7 + 3) / (3 - 1)) = ?</h3>')"
      ]
     },
     "metadata": {},
     "output_type": "display_data"
    },
    {
     "data": {
      "application/vnd.jupyter.widget-view+json": {
       "model_id": "f84c6631d89a40cea01fcacebb657701",
       "version_major": 2,
       "version_minor": 0
      },
      "text/plain": [
       "RadioButtons(layout=Layout(width='max-content'), options=('10', '15', '18'), value='10')"
      ]
     },
     "metadata": {},
     "output_type": "display_data"
    },
    {
     "data": {
      "application/vnd.jupyter.widget-view+json": {
       "model_id": "2f9de7936321406daa98a48e2a8469a3",
       "version_major": 2,
       "version_minor": 0
      },
      "text/plain": [
       "Button(description='Submit', style=ButtonStyle())"
      ]
     },
     "metadata": {},
     "output_type": "display_data"
    },
    {
     "data": {
      "application/vnd.jupyter.widget-view+json": {
       "model_id": "53cc3eb117054a688f47b52c84be762b",
       "version_major": 2,
       "version_minor": 0
      },
      "text/plain": [
       "Button(description='Hint', style=ButtonStyle())"
      ]
     },
     "metadata": {},
     "output_type": "display_data"
    }
   ],
   "source": [
    "import ipywidgets as widgets\n",
    "from IPython.display import display\n",
    "\n",
    "question = widgets.HTML(value='<h3>(4 - 1) * ((7 + 3) / (3 - 1)) = ?</h3>')\n",
    "\n",
    "options = widgets.RadioButtons(\n",
    "    options=['10', '15', '18'],\n",
    "    layout={'width': 'max-content'}\n",
    ")\n",
    "\n",
    "def check_answers(button):\n",
    "    selected_option = options.value\n",
    "    if selected_option == '15':\n",
    "        print(\"Correct!\")\n",
    "    else:\n",
    "        print(\"Check the order of Precedence considering paranthesis too. \")\n",
    "\n",
    "def show_hint(button):\n",
    "    print(\"\"\"1.Start to solve paranthesis.\\n 2.Followed by division \\n 3. then multiplication addition and subtraction.\n",
    "    \"\"\")\n",
    "        \n",
    "submit_button = widgets.Button(description='Submit')\n",
    "submit_button.on_click(check_answers)\n",
    "hint_button = widgets.Button(description='Hint')\n",
    "hint_button.on_click(show_hint)\n",
    "\n",
    "display(question)\n",
    "display(options)\n",
    "display(submit_button)\n",
    "display(hint_button)\n"
   ]
  },
  {
   "cell_type": "markdown",
   "id": "7e6c9113",
   "metadata": {
    "hide_input": false
   },
   "source": [
    "- Hope that you have are now familiar with how to perform operations on numbers in mathematics.\n",
    "- Now let us explore for some other datatypes and check if the mathematical operators can be used on them."
   ]
  },
  {
   "cell_type": "markdown",
   "id": "ad0da939",
   "metadata": {},
   "source": [
    "The most common datatypes to start with as a beginner to any programming languages are int,float,string\n",
    "These names might sound bit non-intuitive right now but soon you will be familiar with them.\n",
    "\n",
    "1. int: If you guessed it as integers ,then you are correct. \n",
    "2. float: When you want to store values in decimal then you need this datatype.\n",
    "3. strings:You will surely be using it now and then to store words/letters\n",
    "    \n",
    "For examples and defination you can refer to the table below:\n",
    "    "
   ]
  },
  {
   "cell_type": "markdown",
   "id": "f0fdca45",
   "metadata": {
    "hide_input": false
   },
   "source": [
    "<div style=\"border-radius: 8px; background-color: #ffffcc; padding: 10px;\"><b>Note:</b>Even though the value 42 is an integer, the value 42.0 would be a floating-point number.</div>"
   ]
  },
  {
   "cell_type": "markdown",
   "id": "d71fec99",
   "metadata": {},
   "source": [
    "<h3>Strings</h3>\n",
    "\n",
    "Programs can also have text values called strings, or strs.<br>\n",
    "Always surround your string in single quote (‘) or double quote(“) characters (as in ‘Hello’ or “Goodbye cruel world!”) so Python knows where the string begins and ends. You can even have a string with no characters in it, '', called a blank string."
   ]
  },
  {
   "cell_type": "code",
   "execution_count": 16,
   "id": "eb78c367",
   "metadata": {},
   "outputs": [
    {
     "ename": "SyntaxError",
     "evalue": "unterminated string literal (detected at line 3) (3660230996.py, line 3)",
     "output_type": "error",
     "traceback": [
      "\u001b[1;36m  Cell \u001b[1;32mIn[16], line 3\u001b[1;36m\u001b[0m\n\u001b[1;33m    'Hello world!\u001b[0m\n\u001b[1;37m    ^\u001b[0m\n\u001b[1;31mSyntaxError\u001b[0m\u001b[1;31m:\u001b[0m unterminated string literal (detected at line 3)\n"
     ]
    }
   ],
   "source": [
    "#Run this cell you will get an error due to invalid syntax.Try to guess why the error is there on basis of above introduciton of strings\n",
    "\n",
    "'Hello world!"
   ]
  },
  {
   "cell_type": "markdown",
   "id": "75c0a3e7",
   "metadata": {},
   "source": [
    "<div style=\"text-align: left; margin-left: 20px;\">\n",
    "    <img src=\"https://media.giphy.com/media/4HrviHQWggXXVQdSO9/giphy.gif\" alt=\"Cute Cat GIF\" style=\"width: 100px;\">\n",
    "</div>\n"
   ]
  },
  {
   "cell_type": "markdown",
   "id": "f7d8b57d",
   "metadata": {
    "hide_input": false
   },
   "source": [
    "- Debugging is an important part of coding. You will be stumbling across many errors while writing your code.\n",
    "- There is nothing to be scared of and noone can write a error free code in the first attempt.\n",
    "- If you don't belive me try searching the above error on google and see the stackoverflow answer, you will find that many programmers have faced the same error in past.\n",
    "- As you proceed through this course we will dive deep into errors.\n"
   ]
  },
  {
   "cell_type": "code",
   "execution_count": 17,
   "id": "a6b8dcfd",
   "metadata": {},
   "outputs": [
    {
     "name": "stdout",
     "output_type": "stream",
     "text": [
      "aiadventures\n",
      "53\n"
     ]
    }
   ],
   "source": [
    "#Run the cell and try to understand what does + operator do\n",
    "print('ai'+'adventures')\n",
    "print(\"5\"+\"3\")"
   ]
  },
  {
   "cell_type": "code",
   "execution_count": 18,
   "id": "d96d1465",
   "metadata": {},
   "outputs": [
    {
     "name": "stdout",
     "output_type": "stream",
     "text": [
      "aiaiaiaiai\n",
      "333\n"
     ]
    }
   ],
   "source": [
    "#Run the cell and try to understand what does * operator do\n",
    "print('ai' * 5)\n",
    "print(\"3\"*3)\n"
   ]
  },
  {
   "cell_type": "markdown",
   "id": "4b783186",
   "metadata": {},
   "source": [
    "You might be wondering why the + and * doesn't add the strings, like it does for int and float?\n",
    "- The reason is that here + does not signifies addition rather it is concatenation for strings.\n",
    "- The * operator is used for multiplication when it operates on two integer or floating-point values. But when the * operator is used on one string value and one integer value, it becomes the string replication operator. \n",
    "\n"
   ]
  },
  {
   "cell_type": "code",
   "execution_count": 19,
   "id": "a8241b55",
   "metadata": {},
   "outputs": [
    {
     "ename": "TypeError",
     "evalue": "can only concatenate str (not \"int\") to str",
     "output_type": "error",
     "traceback": [
      "\u001b[1;31m---------------------------------------------------------------------------\u001b[0m",
      "\u001b[1;31mTypeError\u001b[0m                                 Traceback (most recent call last)",
      "Cell \u001b[1;32mIn[19], line 2\u001b[0m\n\u001b[0;32m      1\u001b[0m \u001b[38;5;66;03m# Run this code cell and study the error\u001b[39;00m\n\u001b[1;32m----> 2\u001b[0m \u001b[38;5;124;43m'\u001b[39;49m\u001b[38;5;124;43mai\u001b[39;49m\u001b[38;5;124;43m'\u001b[39;49m\u001b[43m \u001b[49m\u001b[38;5;241;43m+\u001b[39;49m\u001b[43m \u001b[49m\u001b[38;5;241;43m42\u001b[39;49m\n",
      "\u001b[1;31mTypeError\u001b[0m: can only concatenate str (not \"int\") to str"
     ]
    }
   ],
   "source": [
    "# Run this code cell and study the error\n",
    "'ai' + 42"
   ]
  },
  {
   "cell_type": "markdown",
   "id": "711854c6",
   "metadata": {},
   "source": [
    "- The error message says that python can’t do the operation because python does not knows how to add a str and an int. User has to convert the int to str data type before he/she can add 42 to ‘ai’. Try it with * operator to see if the result is similar.\n",
    "- You can infer that operators operate only on similar datatypes."
   ]
  },
  {
   "cell_type": "code",
   "execution_count": 20,
   "id": "064930d5",
   "metadata": {},
   "outputs": [
    {
     "ename": "NameError",
     "evalue": "name 'ai' is not defined",
     "output_type": "error",
     "traceback": [
      "\u001b[1;31m---------------------------------------------------------------------------\u001b[0m",
      "\u001b[1;31mNameError\u001b[0m                                 Traceback (most recent call last)",
      "Cell \u001b[1;32mIn[20], line 2\u001b[0m\n\u001b[0;32m      1\u001b[0m \u001b[38;5;66;03m#Think why does replication is not suported by floats....\u001b[39;00m\n\u001b[1;32m----> 2\u001b[0m \u001b[43mai\u001b[49m\u001b[38;5;241m*\u001b[39m\u001b[38;5;241m5.0\u001b[39m\n",
      "\u001b[1;31mNameError\u001b[0m: name 'ai' is not defined"
     ]
    }
   ],
   "source": [
    "#Think why does replication is not suported by floats....\n",
    "ai*5.0"
   ]
  },
  {
   "cell_type": "markdown",
   "id": "dcc63916",
   "metadata": {},
   "source": [
    "<div style=\"border-radius: 8px; background-color: #ffffcc; padding: 10px;\"><b>Note:</b>You can’t multiply two words, and it’s hard to replicate an arbitrary string a fractional number of times.</div>"
   ]
  },
  {
   "cell_type": "markdown",
   "id": "1e02d65a",
   "metadata": {},
   "source": [
    "- Try to ask a question to yourself :-\n",
    "What if I want to refer to value 'ai'*5 again in my code?\n",
    "I would need to call it again this will create a messy code ,so we need to look up for a way to store the value.\n",
    "- It is same as buying candies now so that you can eat them later,but you won't go there eachtime so you will use a jar to store candies & whenever you will require them you will get the candy from jar."
   ]
  },
  {
   "cell_type": "markdown",
   "id": "9ae3047d",
   "metadata": {
    "hide_input": true
   },
   "source": [
    "<div style=\"display: flex;\">\n",
    "    <div style=\"flex: 1;\">\n",
    "        <img src=\"https://images-cdn.ubuy.co.in/635a80a709fa6661ef0b156f-glass-candy-jar-cookie-jar-2-pack-with.jpg\" alt=\"Image\" style=\"margin-right: 20px; width: 200px; height: auto;\">\n",
    "    </div>\n",
    "    <div style=\"flex: 1; text-align: left;\">\n",
    "        <b>Why to use Variables?</b>\n",
    "        <ul>\n",
    "            <li><u>Storage of data</u>: Variables allow us to store and manipulate data in computer memory. Instead of repeatedly writing and rewriting values, we can assign them to variables and refer to those variables throughout our code</li>\n",
    "            <li><u>Value reuse</u>: By assigning values to variables, we can easily reuse those values multiple times in our code. </li>\n",
    "            <li><u>Data organization and readability</u>: Variables provide a way to organize and label data. By assigning meaningful names to variables, we can make our code more self-explanatory and easier to understand. </li>\n",
    "        </ul>\n",
    "    </div>\n",
    "</div>\n"
   ]
  },
  {
   "cell_type": "code",
   "execution_count": 23,
   "id": "7cd953b6",
   "metadata": {},
   "outputs": [
    {
     "name": "stdout",
     "output_type": "stream",
     "text": [
      "10\n"
     ]
    }
   ],
   "source": [
    "#Lets play with variables\n",
    "a=5\n",
    "print(a+5)"
   ]
  },
  {
   "cell_type": "code",
   "execution_count": 24,
   "id": "2f421eb0",
   "metadata": {},
   "outputs": [
    {
     "name": "stdout",
     "output_type": "stream",
     "text": [
      "Enter your name: \n",
      " will become an awesome programmer\n"
     ]
    }
   ],
   "source": [
    "#Enter your name\n",
    "name=input(\"Enter your name: \")\n",
    "print(name+\" will become an awesome programmer\")\n",
    "\n",
    "#Note when we are using variables in print statement we need to separate them using comma from rest of the string"
   ]
  },
  {
   "cell_type": "markdown",
   "id": "1d26932c",
   "metadata": {},
   "source": [
    "### Some basic Functions and typecasting"
   ]
  },
  {
   "cell_type": "markdown",
   "id": "ee0cf643",
   "metadata": {},
   "source": [
    "By now I am sure you will be familiar with variables and datatypes.\n",
    "Sometimes you need to check datatype of variable declared already. For this you will need to use type() function of python.\n"
   ]
  },
  {
   "cell_type": "code",
   "execution_count": 25,
   "id": "53ee630d",
   "metadata": {},
   "outputs": [
    {
     "name": "stdout",
     "output_type": "stream",
     "text": [
      "<class 'int'>\n",
      "<class 'str'>\n",
      "<class 'float'>\n"
     ]
    }
   ],
   "source": [
    "#Example of type\n",
    "a=5\n",
    "print(type(a))\n",
    "\n",
    "a=\"Ai Adventures\"\n",
    "print(type(a))\n",
    "\n",
    "a=100.0\n",
    "print(type(a))\n",
    "\n",
    "\n",
    "#No need to worry what is word 'class' here"
   ]
  },
  {
   "cell_type": "markdown",
   "id": "5c142f5f",
   "metadata": {},
   "source": [
    "- Typecasting, also known as type conversion, is the process of changing the data type of a value in Python. It allows you to convert a value from one data type to another.\n",
    "\n",
    "- Python has several built-in data types, such as integers (whole numbers), floats (decimal numbers), strings (sequences of characters), and booleans (True or False values). Sometimes, you may need to convert a value from one data type to another in order to perform certain operations or manipulate the data in a specific way.\n",
    "\n",
    "- For instance, if you have a string \"5\" and you want to perform arithmetic operations with it, you can use the int() or float() functions to convert it to the respective data types:"
   ]
  },
  {
   "cell_type": "code",
   "execution_count": 26,
   "id": "c763d118",
   "metadata": {},
   "outputs": [
    {
     "data": {
      "text/plain": [
       "6"
      ]
     },
     "execution_count": 26,
     "metadata": {},
     "output_type": "execute_result"
    }
   ],
   "source": [
    "#Notice the error that will occur if type conversion is not done and note it down\n",
    "age=5\n",
    "int(age)+1\n",
    "\n"
   ]
  },
  {
   "cell_type": "markdown",
   "id": "497143fb",
   "metadata": {},
   "source": [
    "<div style=\"border-radius: 8px; background-color: #ffffcc; padding: 10px;\"><b>Note:</b>Typecasting can be useful when you want to ensure that a value has a specific data type or when you need to combine values of different types in your program.However, it's important to note that not all types can be converted to each other. You need to consider the compatibility between the original and desired data types when performing typecasting operations.</div>"
   ]
  },
  {
   "cell_type": "code",
   "execution_count": 28,
   "id": "d9341e4d",
   "metadata": {
    "scrolled": true
   },
   "outputs": [
    {
     "ename": "ValueError",
     "evalue": "invalid literal for int() with base 10: 'HI'",
     "output_type": "error",
     "traceback": [
      "\u001b[1;31m---------------------------------------------------------------------------\u001b[0m",
      "\u001b[1;31mValueError\u001b[0m                                Traceback (most recent call last)",
      "Cell \u001b[1;32mIn[28], line 5\u001b[0m\n\u001b[0;32m      1\u001b[0m \u001b[38;5;66;03m# Example: Try converting \u001b[39;00m\n\u001b[0;32m      3\u001b[0m \u001b[38;5;28mstr\u001b[39m(\u001b[38;5;241m10\u001b[39m)\n\u001b[1;32m----> 5\u001b[0m \u001b[38;5;28;43mint\u001b[39;49m\u001b[43m(\u001b[49m\u001b[38;5;124;43m\"\u001b[39;49m\u001b[38;5;124;43mHI\u001b[39;49m\u001b[38;5;124;43m\"\u001b[39;49m\u001b[43m)\u001b[49m\n\u001b[0;32m      6\u001b[0m \u001b[38;5;66;03m#Try to understand it clearly why int can be converted to string but the reverse is not true.If you need help ask mentors.\u001b[39;00m\n",
      "\u001b[1;31mValueError\u001b[0m: invalid literal for int() with base 10: 'HI'"
     ]
    }
   ],
   "source": [
    "# Example: Try converting \n",
    "\n",
    "str(10)\n",
    "\n",
    "int(\"HI\")\n",
    "#Try to understand it clearly why int can be converted to string but the reverse is not true.If you need help ask mentors.\n"
   ]
  },
  {
   "cell_type": "markdown",
   "id": "9e9c2725",
   "metadata": {},
   "source": [
    "Some useful functions are:\n",
    "1. <b>len()</b>:- You can pass the len() function a string value (or a variable containing a string), and the function evaluates to the integer value of the number of characters in that string. \n",
    "2. <b>str()</b>:- If you want to concatenate an integer such as 24 with a string to pass to print(), you’ll need to get the value '24', which is the string form of 24. \n",
    "3. <b>int()</b>:- If you want to do math using the value in user input value, use the int() function to get the integer form of user_value and then store this as the new value in user_value.\n",
    "4. <b>float()</b>:- if you want to answer in terms of decimal output values then you need to convert it to float using float()"
   ]
  },
  {
   "cell_type": "markdown",
   "id": "bc5a81d4",
   "metadata": {},
   "source": [
    "<div style=\"border-radius: 8px; background-color: #ff8080; padding: 10px;\"><b>Note:</b>Just like those examples, len(myName) evaluates to an integer. It is then passed to print() to be displayed on the screen. Notice that print() allows you to pass it either integer values or string values. But notice the error that shows up when you type the following into the cell:</div>"
   ]
  },
  {
   "cell_type": "code",
   "execution_count": 29,
   "id": "09cb2e10",
   "metadata": {},
   "outputs": [
    {
     "ename": "TypeError",
     "evalue": "can only concatenate str (not \"int\") to str",
     "output_type": "error",
     "traceback": [
      "\u001b[1;31m---------------------------------------------------------------------------\u001b[0m",
      "\u001b[1;31mTypeError\u001b[0m                                 Traceback (most recent call last)",
      "Cell \u001b[1;32mIn[29], line 1\u001b[0m\n\u001b[1;32m----> 1\u001b[0m \u001b[38;5;28mprint\u001b[39m(\u001b[38;5;124;43m'\u001b[39;49m\u001b[38;5;124;43mI am \u001b[39;49m\u001b[38;5;124;43m'\u001b[39;49m\u001b[43m \u001b[49m\u001b[38;5;241;43m+\u001b[39;49m\u001b[43m \u001b[49m\u001b[38;5;241;43m24\u001b[39;49m \u001b[38;5;241m+\u001b[39m \u001b[38;5;124m'\u001b[39m\u001b[38;5;124m years old.\u001b[39m\u001b[38;5;124m'\u001b[39m)\n",
      "\u001b[1;31mTypeError\u001b[0m: can only concatenate str (not \"int\") to str"
     ]
    }
   ],
   "source": [
    "print('I am ' + 24 + ' years old.')"
   ]
  },
  {
   "cell_type": "markdown",
   "id": "aa7a424f",
   "metadata": {},
   "source": [
    "The print() function isn’t causing that error, but rather it’s the expression you tried to pass to print(). You get the same error message if you type the expression into the cell on its own. Try to convert type of 24 to str and then pass it to print function.\n"
   ]
  },
  {
   "cell_type": "markdown",
   "id": "c695a3ff",
   "metadata": {},
   "source": [
    "Your Task: Whenever we come to a new place we give an introduction to our colleagues and people there.Often the same \n",
    "structure of introduction is used by everyone. So why not build a template for introduction that contains \n",
    "1. Your name & age\n",
    "2. Education \n",
    "3. Name of educational institution.\n",
    "4. Your hobbies\n",
    "5. What you are expecting from Ai Adventures?\n",
    "\n",
    "Store the above values into variables with specific names, take input from user for this , fit these into your template \n",
    "and finally display it to the user.\n",
    "\n",
    "You can start as \n",
    "Hello I am `variable for name`. I have completed `variable for education`.....\n",
    "\n"
   ]
  },
  {
   "cell_type": "code",
   "execution_count": 30,
   "id": "656eabb3",
   "metadata": {},
   "outputs": [],
   "source": [
    "#Write your code here"
   ]
  },
  {
   "cell_type": "markdown",
   "id": "3df43dda",
   "metadata": {},
   "source": [
    "# Text and Number Equivalence\n",
    "Although the string value of a number is considered a completely different value from the integer or floating-point version, an integer can be equal to a floating point.\n",
    "\n",
    "Run the cells and see if the results surprise you or not?\n"
   ]
  },
  {
   "cell_type": "code",
   "execution_count": 31,
   "id": "627c030b",
   "metadata": {},
   "outputs": [
    {
     "data": {
      "text/plain": [
       "False"
      ]
     },
     "execution_count": 31,
     "metadata": {},
     "output_type": "execute_result"
    }
   ],
   "source": [
    "\n",
    "42 == '42'"
   ]
  },
  {
   "cell_type": "code",
   "execution_count": 32,
   "id": "58feb35f",
   "metadata": {},
   "outputs": [
    {
     "data": {
      "text/plain": [
       "True"
      ]
     },
     "execution_count": 32,
     "metadata": {},
     "output_type": "execute_result"
    }
   ],
   "source": [
    "42 == 42.0"
   ]
  },
  {
   "cell_type": "code",
   "execution_count": 33,
   "id": "ba5c4be1",
   "metadata": {},
   "outputs": [
    {
     "data": {
      "text/plain": [
       "True"
      ]
     },
     "execution_count": 33,
     "metadata": {},
     "output_type": "execute_result"
    }
   ],
   "source": [
    "\n",
    "42.0 == 0042.000"
   ]
  },
  {
   "cell_type": "markdown",
   "id": "bbac5c44",
   "metadata": {},
   "source": [
    "Python makes this distinction because strings are text, while integers and floats are both numbers."
   ]
  },
  {
   "cell_type": "markdown",
   "id": "558c53c1",
   "metadata": {},
   "source": [
    "<style>\n",
    "    .container {\n",
    "        max-width: 600px;\n",
    "        margin: 0 auto;\n",
    "        background-color: #fff;\n",
    "        padding: 20px;\n",
    "        border-radius: 5px;\n",
    "        box-shadow: 0 2px 5px rgba(0, 0, 0, 0.1);\n",
    "    }\n",
    "\n",
    "    .heading {\n",
    "        text-align: center;\n",
    "        font-size: 24px;\n",
    "        margin-bottom: 20px;\n",
    "    }\n",
    "\n",
    "    .line {\n",
    "        border-top: 2px solid #ccc;\n",
    "        margin: 20px 0;\n",
    "    }\n",
    "</style>\n",
    "\n",
    "<div class=\"container\">\n",
    "    <h2 class=\"heading\">Conclusion</h2>\n",
    "    <div class=\"line\"></div>\n",
    "    <p>\n",
    "        That’s it in this chapter. You have learnt Python Basics, Data types & it’s operations. Let’s move on to Questions         it will test your knowledge of this chapter.\n",
    "    </p>\n",
    "    <div class=\"line\"></div>\n",
    "</div>\n"
   ]
  },
  {
   "cell_type": "code",
   "execution_count": null,
   "id": "d8506535",
   "metadata": {},
   "outputs": [],
   "source": []
  }
 ],
 "metadata": {
  "celltoolbar": "Edit Metadata",
  "kernelspec": {
   "display_name": "Python 3 (ipykernel)",
   "language": "python",
   "name": "python3"
  },
  "language_info": {
   "codemirror_mode": {
    "name": "ipython",
    "version": 3
   },
   "file_extension": ".py",
   "mimetype": "text/x-python",
   "name": "python",
   "nbconvert_exporter": "python",
   "pygments_lexer": "ipython3",
   "version": "3.10.7"
  }
 },
 "nbformat": 4,
 "nbformat_minor": 5
}
